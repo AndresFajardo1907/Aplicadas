{
  "nbformat": 4,
  "nbformat_minor": 0,
  "metadata": {
    "colab": {
      "provenance": [],
      "authorship_tag": "ABX9TyN33+dayH7ryr89QyPYvtkD",
      "include_colab_link": true
    },
    "kernelspec": {
      "name": "python3",
      "display_name": "Python 3"
    },
    "language_info": {
      "name": "python"
    }
  },
  "cells": [
    {
      "cell_type": "markdown",
      "metadata": {
        "id": "view-in-github",
        "colab_type": "text"
      },
      "source": [
        "<a href=\"https://colab.research.google.com/github/AndresFajardo1907/Aplicadas/blob/main/FajardoAndres_A00411298.ipynb\" target=\"_parent\"><img src=\"https://colab.research.google.com/assets/colab-badge.svg\" alt=\"Open In Colab\"/></a>"
      ]
    },
    {
      "cell_type": "markdown",
      "source": [
        "<font color = \"purple\" size = 7> Actividad 1 </font>\n",
        "\n",
        "Mi nombre es Andrés Felipe Fajardo Albán, tengo 17 años, vivo con mis papás, de pequeño entrené futbol hasta que me fracturé el brazo y despues de eso le cogí pereza. Tambien he jugado videojuegos toda mi vida y supongo que como la mayoria de los niños siempre pensé en tener un canal de youtube y vivir de eso.\n",
        "Además Cristiano ha sido mi ejemplo a seguir toda mi vida y sí he loigrado cosas, es gracias a él.\n",
        "$$$$\n",
        "<img src = 'https://th.bing.com/th/id/OIF.v623XNT9ITaBAHvB901aTQ?w=246&h=180&c=7&r=0&o=5&dpr=1.1&pid=1.7'>\n",
        "\n",
        "* Canciones favoritas\n",
        ">Fumando <i>Blessd, Ryan Castro </i>\n",
        ">>Me das libertad <i> Wichy Camacho </i>\n",
        ">>>A dormir afuera <i> Orquesta Mulenze </i>\n",
        ">>>>No me acostumbro <i> Rey Ruiz </i>\n",
        ">>>>>Stupid love story <i> Canserbero, Apache </i>\n",
        "\n",
        "$$$$\n",
        "\n",
        "|Materia|Explicación|\n",
        "|-------|-----------|\n",
        "|Ing.Soft| La verdad la profe es muy chevere y como apenas voy iniciando pues es lo que importa|\n",
        "|Apo| Lo mismo, por la profe que es toda parchada|\n",
        "|Aplicadas| Porque la profe es re bien, por algo matriculé con ella otra vez|\n",
        "$$$$\n",
        "\n",
        "<font color = \"purple\" size = 12><center> 17 equaciones </font> </center>\n",
        "$$$$\n",
        "* 1. Teorema de pitagoras: $a^2+b^2=c^2$\n",
        "* 2. Logaritmos:  $log xy = log x+log y$\n",
        "* 3. Calculus: $\\frac{df}{dt}=\\displaystyle \\lim_{ h\\to 0} = \\frac{f(t + h)-f(t)}{h}$\n",
        "* 4. Ley de gravedad: $F = G\\frac{m_1m_2}{r^2}$\n",
        "* 5. The square root of -1: $i^2 = -1$\n",
        "* 6. Polyhedra: $V-E + F = 2$\n",
        "* 7.  Normal distribution: $ \\Phi (x) \\frac {1}{\\sqrt{2 \\pi \\rho }}e$\n",
        "* 8. Wave equation:$\\frac {\\sigma^2u}{\\sigma t^2} = c^2 \\frac{\\sigma^2u}{\\sigma x^2}$\n",
        "* 9. Fourier transform: $f(w) = \\int_{\\infty}^{\\infty} f(x)e^{-2i\\pi xw}$\n",
        "* 10. Navier Atokes equation: $\\rho (\\frac{\\sigma v}{\\sigma t} + v \\cdot \\bigtriangledown v)= -\\bigtriangledown p + \\bigtriangledown \\cdot T +f$\n",
        "* 11. $\\bigtriangledown \\cdot E = 0$\n",
        "** $\\bigtriangledown × E = -\\frac {1}{c}\\frac{\\partial H}{\\partial t}$\n",
        "** $\\bigtriangledown \\cdot H = 0$\n",
        "** $\\bigtriangledown × H = \\frac {1}{c}\\frac{\\partial E}{\\partial t}$\n",
        "* 12. Segunda ley de la termodinamica $dS \\geq 0 $\n",
        "* 13. Relatividad: $E= mc^2$\n",
        "* 14. Schrodinger equation: $ih \\frac {\\partial}{\\partial t}$  "
      ],
      "metadata": {
        "id": "0G03h4z0xNgE"
      }
    }
  ]
}