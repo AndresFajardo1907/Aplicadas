{
  "nbformat": 4,
  "nbformat_minor": 0,
  "metadata": {
    "colab": {
      "provenance": [],
      "authorship_tag": "ABX9TyNfOm2fHUjVUmh4XkMXv4yZ",
      "include_colab_link": true
    },
    "kernelspec": {
      "name": "python3",
      "display_name": "Python 3"
    },
    "language_info": {
      "name": "python"
    }
  },
  "cells": [
    {
      "cell_type": "markdown",
      "metadata": {
        "id": "view-in-github",
        "colab_type": "text"
      },
      "source": [
        "<a href=\"https://colab.research.google.com/github/AndresFajardo1907/Aplicadas/blob/main/Taller2_aplicadas.ipynb\" target=\"_parent\"><img src=\"https://colab.research.google.com/assets/colab-badge.svg\" alt=\"Open In Colab\"/></a>"
      ]
    },
    {
      "cell_type": "markdown",
      "source": [
        "<font size = 5> Integrantes: </font>\n",
        "* Jacobo Vargas-A00404722\n",
        "* Alejandra Ruiz-A00412715\n",
        "* Andrés Fajardo-A00411298"
      ],
      "metadata": {
        "id": "mgA4IyhWuY_E"
      }
    },
    {
      "cell_type": "markdown",
      "source": [
        "<font size = 5> Aplicadas punto 1 </font>"
      ],
      "metadata": {
        "id": "N-DU_5der7Hr"
      }
    },
    {
      "cell_type": "code",
      "source": [
        "#filtrar numeros primos Escribe una función que reciba una lista de números y devuelva una nueva lista solo\n",
        "#con los números primos.\n",
        "\n",
        "numeros = []\n",
        "\n",
        "num = int(input(\"Por favor, ingresa el numero que quieres que esté en la lista: \"))\n",
        "numeros.append(num)\n",
        "mas_numeros = input(\"Desea ingresar más numeros a la lista?\").lower().strip()\n",
        "while mas_numeros == 'si':\n",
        "    num = int(input(\"Por favor, ingresa el numero que quieres que esté en la lista: \"))\n",
        "    numeros.append(num)\n",
        "    parar = input(\"Desea parar?: \").lower().strip()\n",
        "    if parar == 'no':\n",
        "        continue\n",
        "    else:\n",
        "        break\n",
        "\n",
        "print(numeros)\n",
        "\n",
        "def identificar_primos(numeros):\n",
        "    primos = []\n",
        "    for i in numeros:\n",
        "        identificador = i % 2\n",
        "        if identificador != 0:\n",
        "            primos.append(i)\n",
        "            for i in primos:\n",
        "                if i == 1:\n",
        "                    primos.clear()\n",
        "\n",
        "    return (primos)\n",
        "\n",
        "print(identificar_primos(numeros))"
      ],
      "metadata": {
        "id": "MGYO0brHscfg"
      },
      "execution_count": null,
      "outputs": []
    },
    {
      "cell_type": "markdown",
      "source": [
        "<font size = 5> Aplicadas punto 2 </font>"
      ],
      "metadata": {
        "id": "0WoTcRlLsdvd"
      }
    },
    {
      "cell_type": "code",
      "execution_count": null,
      "metadata": {
        "colab": {
          "base_uri": "https://localhost:8080/"
        },
        "id": "15AkMP-F8K7G",
        "outputId": "b6ae98b4-c478-47fb-8804-05a682f2dd20"
      },
      "outputs": [
        {
          "output_type": "stream",
          "name": "stdout",
          "text": [
            "Elementos comunes: [12, 9, 5]\n"
          ]
        }
      ],
      "source": [
        "def elementos_comunes(lista1, lista2):\n",
        "\n",
        "    lista_comun = []\n",
        "    for elemento in lista1:\n",
        "        if elemento in lista2 and elemento not in lista_comun:\n",
        "            lista_comun.append(elemento)\n",
        "    return lista_comun\n",
        "\n",
        "# Ejemplo de uso\n",
        "lista_a = [12, 2, 9, 20, 5]\n",
        "lista_b = [9, 5, 12, 7, 12]\n",
        "comunes = elementos_comunes(lista_a, lista_b)\n",
        "print(\"Elementos comunes:\", comunes)\n",
        "\n"
      ]
    },
    {
      "cell_type": "markdown",
      "source": [
        "<font size = 5> Aplicadas punto 3 </font>"
      ],
      "metadata": {
        "id": "GDs3_yMYsrpM"
      }
    },
    {
      "cell_type": "code",
      "source": [
        "def lista_a_matriz(lista):\n",
        "    import math\n",
        "    longitud = len(lista)\n",
        "    tamano = int(math.sqrt(longitud))\n",
        "\n",
        "    if tamano * tamano != longitud:\n",
        "        return \"Error: No se puede formar una matriz cuadrada con esta cantidad de elementos.\"\n",
        "\n",
        "    matriz = []\n",
        "    for i in range(tamano):\n",
        "        fila = []\n",
        "        for j in range(tamano):\n",
        "            fila.append(lista[i * tamano + j])\n",
        "        matriz.append(fila)\n",
        "\n",
        "    return matriz\n",
        "\n",
        "# Ejemplo de uso\n",
        "lista_numeros = [1, 2, 3, 4, 5, 6, 7, 8,]\n",
        "lista_numeros2 = [1,2,3,4,5,6,7,8,9]\n",
        "resultado = lista_a_matriz(lista_numeros)\n",
        "resultado2 = lista_a_matriz(lista_numeros2)\n",
        "print(\"Matriz cuadrada:\", resultado)\n",
        "print(\"Matriz cuadrada:\", resultado2)"
      ],
      "metadata": {
        "id": "sF43V8eZsyKo"
      },
      "execution_count": null,
      "outputs": []
    },
    {
      "cell_type": "markdown",
      "source": [
        "<font size = 5> Aplicadas punto 4 </font>"
      ],
      "metadata": {
        "id": "TYVuGpEctNUw"
      }
    },
    {
      "cell_type": "code",
      "source": [
        "import math\n",
        "from collections import Counter\n",
        "\n",
        "def calcular_estadisticas(lista):\n",
        "\n",
        "    if not lista:\n",
        "        return \"Error: La lista está vacía.\"\n",
        "\n",
        "    # Calcular la media\n",
        "    media = sum(lista) / len(lista)\n",
        "\n",
        "    # Calcular la mediana\n",
        "    lista_ordenada = sorted(lista)\n",
        "    n = len(lista_ordenada)\n",
        "    if n % 2 == 1:\n",
        "        mediana = lista_ordenada[n // 2]\n",
        "    else:\n",
        "        mediana = (lista_ordenada[n // 2 - 1] + lista_ordenada[n // 2]) / 2\n",
        "\n",
        "    # Calcular la moda\n",
        "    contador = Counter(lista)\n",
        "    max_frecuencia = max(contador.values())\n",
        "    moda = [num for num, freq in contador.items() if freq == max_frecuencia]\n",
        "\n",
        "    return {\"Media\": media, \"Mediana\": mediana, \"Moda\": moda}\n",
        "\n",
        "\n",
        "lista_numeros = [12, 45, 67, 89, 45, 23, 67, 89, 100, 45, 23, 67, 89]\n",
        "resultado = calcular_estadisticas(lista_numeros)\n",
        "print(\"Resultados:\", resultado)"
      ],
      "metadata": {
        "id": "uu0aPNFUtQv0"
      },
      "execution_count": null,
      "outputs": []
    },
    {
      "cell_type": "markdown",
      "source": [
        "<font size = 5> Aplicadas punto 5 </font>"
      ],
      "metadata": {
        "id": "9PGywAPUtRLi"
      }
    },
    {
      "cell_type": "code",
      "source": [
        "EJERCICIO 5:\n",
        "# Escribe una función que reciba una lista de precios de productos y una lista de\n",
        "# cantidades compradas. La función debe calcular el total a pagar, aplicando un\n",
        "# descuento del 10% si el total supera $100.\n",
        "\n",
        "# CODIGO:\n",
        "\n",
        "def calcularTotal(precios, cantidades):\n",
        "    total = 0\n",
        "    for i in range(len(precios)):\n",
        "        subtotal = precios[i] * cantidades[i]\n",
        "        print(f\"Producto {i + 1}: {precios[i]} x {cantidades[i]} = {subtotal}\")\n",
        "        total += subtotal\n",
        "\n",
        "    print(f\"Suma total antes de descuento: ${total:.2f}\")\n",
        "\n",
        "    if total > 100:\n",
        "        total *= 0.10\n",
        "        print(\"Se aplica un 10 % DE descuento.\")\n",
        "\n",
        "    return total\n",
        "\n",
        "precios = [25, 50, 5, 10]\n",
        "cantidades = [2, 5, 1, 8]\n",
        "total_a_pagar = calcularTotal(precios, cantidades)\n",
        "print(f\"Total a pagar: ${total_a_pagar:.2f}\")"
      ],
      "metadata": {
        "id": "F5fuoToltTNb"
      },
      "execution_count": null,
      "outputs": []
    },
    {
      "cell_type": "markdown",
      "source": [
        "<font size = 5> Aplicadas punto 6 </font>"
      ],
      "metadata": {
        "id": "v46TxciXtTjB"
      }
    },
    {
      "cell_type": "code",
      "source": [
        "EJERCICIO 6:\n",
        "# Control de inventario: Crea una función que reciba una lista de productos en inventario\n",
        "# y una lista de productos vendidos. La función debe devolver una lista con los productos\n",
        "# que quedan en inventario, eliminando los vendidos.\n",
        "\n",
        "# CODIGO:\n",
        "\n",
        "def InventarioActualizado(inventario, vendidos):\n",
        "    NuevoInventario = []  # Crear una nueva lista vacia donde iran el nuevo inventario\n",
        "    for producto in inventario:\n",
        "        if producto not in vendidos:\n",
        "            NuevoInventario.append(producto)\n",
        "    return NuevoInventario  # Devolver la lista con el inventario actualizado\n",
        "\n",
        "def MostrarInventario():\n",
        "    # Listas de productos\n",
        "    inventario = [\"guayos\", \"medias\", \"camiseta\", \"guantes\", \"canilleras\", \"pantalonetas\"]\n",
        "    vendidos = [\"guayos\", \"camiseta\", \"pantaloneta\"]\n",
        "\n",
        "    # Mostrar el inventario original y los productos vendidos\n",
        "    print(\"Inventario original:\", inventario)\n",
        "    print(\"Productos vendidos:\", vendidos)\n",
        "\n",
        "    # Llamar la función y obtener la lista actualizada\n",
        "    NuevoInventario = InventarioActualizado(inventario, vendidos)\n",
        "\n",
        "    # Mostrar el inventario actualizado\n",
        "    print(\"Inventario actualizado:\", NuevoInventario)\n",
        "\n",
        "MostrarInventario()\n"
      ],
      "metadata": {
        "id": "o9dN-IDCtXBv"
      },
      "execution_count": null,
      "outputs": []
    },
    {
      "cell_type": "markdown",
      "source": [
        "<font size = 5> Aplicadas punto 7 </font>"
      ],
      "metadata": {
        "id": "a5USMLuRtaSa"
      }
    },
    {
      "cell_type": "code",
      "source": [
        "# EJERCICIO 7:\n",
        "# Registro de temperaturas: Escribe una función que reciba una lista de temperaturas\n",
        "# diarias (en grados Celsius) y devuelva cuántos días la temperatura estuvo por encima\n",
        "# de 30°C, cuántos entre 20°C y 30°C, y cuántos por debajo de 20°C.\n",
        "\n",
        "# CODIGO:\n",
        "\n",
        "def contar_tipos_de_dias(lista_temperaturas):\n",
        "    dias_calientes = 0  # Más de 30°C\n",
        "    dias_templados = 0  # Entre 20°C y 30°C\n",
        "    dias_frescos = 0  # Menos de 20°C\n",
        "\n",
        "    for temp in lista_temperaturas:\n",
        "        if temp > 30:\n",
        "            dias_calientes += 1\n",
        "        elif 20 <= temp <= 30:\n",
        "            dias_templados += 1\n",
        "        else:\n",
        "            dias_frescos += 1\n",
        "\n",
        "    return dias_calientes, dias_templados, dias_frescos  # Retornamos los valores\n",
        "\n",
        "# Lista de temperaturas de prueba\n",
        "registro_temperaturas = [10, 18, 22, 28, 33, 40, 15, 27, 35, 21, 12]\n",
        "\n",
        "# Llamamos la función y guardamos los resultados\n",
        "dias_calientes, dias_templados, dias_frescos = contar_tipos_de_dias(registro_temperaturas)\n",
        "\n",
        "# Mostramos los resultados con nombres\n",
        "print(f\"Días con calor intenso (>30°C): {dias_calientes}\")\n",
        "print(f\"Días con clima templado (20°C - 30°C): {dias_templados}\")\n",
        "print(f\"Días con frío (<20°C): {dias_frescos}\")"
      ],
      "metadata": {
        "id": "nOv3cUsKtcJf"
      },
      "execution_count": null,
      "outputs": []
    },
    {
      "cell_type": "markdown",
      "source": [
        "<font size = 5> Aplicadas punto 8 </font>"
      ],
      "metadata": {
        "id": "fReE8Q_dtciL"
      }
    },
    {
      "cell_type": "code",
      "source": [
        "# EJERICICIO 8:\n",
        "\n",
        "# Cálculo de calorías consumidas: Crea una función que reciba una lista de alimentos\n",
        "# consumidos y una lista de calorías correspondientes a cada alimento. La función debe\n",
        "# calcular el total de calorías consumidas y devolver un mensaje si se superan las 2000\n",
        "# calorías diarias recomendadas.\n",
        "\n",
        "# CODIGO:\n",
        "\n",
        "import numpy as np\n",
        "\n",
        "def evaluar_ingesta(lista_comidas, calorias_comidas):\n",
        "    suma_calorias = np.sum(calorias_comidas)\n",
        "\n",
        "    print(f\"\\nTotal de calorías consumidas: {suma_calorias}\")\n",
        "\n",
        "    if suma_calorias > 2000:\n",
        "        return \" Precaución, tu consumo calórico es alto.\"\n",
        "    else:\n",
        "        return \"Tu alimentación está equilibrada.\"\n",
        "\n",
        "def ejecutar():\n",
        "    lista_comidas = []\n",
        "    calorias_comidas = []\n",
        "\n",
        "    num_alimentos = int(input(\"¿Cuántos alimentos quieres registrar? \"))\n",
        "\n",
        "    for i in range(num_alimentos):\n",
        "        comida = input(f\"Ingresa el nombre del alimento {i+1}: \")\n",
        "        calorias = int(input(f\"Ingrese las calorías de {comida}: \"))\n",
        "\n",
        "        lista_comidas.append(comida)\n",
        "        calorias_comidas.append(calorias)\n",
        "\n",
        "    print(\"\\nResumen de alimentos y calorías:\")\n",
        "    for comida, caloria in zip(lista_comidas, calorias_comidas):\n",
        "        print(f\"- {comida}: {caloria} calorías\")\n",
        "\n",
        "    print(evaluar_ingesta(lista_comidas, calorias_comidas))\n",
        "\n",
        "ejecutar()"
      ],
      "metadata": {
        "id": "xBEObTSQteSm"
      },
      "execution_count": null,
      "outputs": []
    },
    {
      "cell_type": "markdown",
      "source": [
        "<font size = 5> Aplicadas punto 9 </font>"
      ],
      "metadata": {
        "id": "BA1SSTlutelj"
      }
    },
    {
      "cell_type": "code",
      "source": [
        "import math\n",
        "from collections import Counter\n",
        "\n",
        "def calcular_promedio_ventas(ventas):\n",
        "    if not ventas:\n",
        "        return \"Error: La lista de ventas está vacía.\"\n",
        "    if len(ventas) != 12:\n",
        "        return \"Error: La lista debe contener exactamente 12 valores.\"\n",
        "\n",
        "    promedio = sum(ventas) / 12\n",
        "    meses_superiores = sum(1 for venta in ventas if venta > promedio)\n",
        "\n",
        "    return {\"Promedio de ventas\": promedio, \"Meses por encima del promedio\": meses_superiores}\n",
        "\n",
        "# Ejemplo de uso\n",
        "ventas_mensuales = [12000000, 15000000, 13000000, 21000000, 25000000, 23000000, 19000000, 17000000, 18000000, 22000000, 24000000, 20000000]\n",
        "resultado = calcular_promedio_ventas(ventas_mensuales)\n",
        "print(\"Resultados:\", resultado)"
      ],
      "metadata": {
        "id": "6gELYFWltgZ5"
      },
      "execution_count": null,
      "outputs": []
    },
    {
      "cell_type": "markdown",
      "source": [
        "<font size = 5> Aplicadas punto 10 </font>"
      ],
      "metadata": {
        "id": "Op8uuppKtgwj"
      }
    },
    {
      "cell_type": "code",
      "source": [
        "#Sistema de descuentos en una tienda: Crea una función que reciba el total de una\n",
        "#compra y aplique un descuento según el monto:\n",
        "#• 5% si el total está entre 50 y 100.\n",
        "#• 10% si el total es mayor a 100 y menor a  200.\n",
        "#• 15% si el total es mayor o igual a $200.\n",
        "#La función debe devolver el total con el descuento aplicado.\n",
        "\n",
        "print(\"Hola, Bienvenido\")\n",
        "print(\"\"\"\n",
        "       !TENEMOS OFERTAS¡\n",
        "      • 5% si el total está entre 50 y 100.\n",
        "      • 10% si el total es mayor a 100 y menor a  200.\n",
        "      • 15% si el total es mayor o igual a $200.\n",
        "\"\"\")\n",
        "\n",
        "monto_a_pagar = int(input(\"Ingrese por favor el total de su compra: \"))\n",
        "\n",
        "def calcular_descuento(monto_a_pagar):\n",
        "    if monto_a_pagar < 50:\n",
        "        descuento = 0\n",
        "    elif 50<= monto_a_pagar <= 100:\n",
        "        descuento  = 0.05\n",
        "    elif 100< monto_a_pagar <200:\n",
        "        descuento = 0.10\n",
        "    elif monto_a_pagar >= 200:\n",
        "        descuento = 0.15\n",
        "\n",
        "    total_a_pagar = monto_a_pagar - (monto_a_pagar * descuento)\n",
        "    return(total_a_pagar)\n",
        "\n",
        "print(calcular_descuento(monto_a_pagar))"
      ],
      "metadata": {
        "id": "FhTNe7BDtijS"
      },
      "execution_count": null,
      "outputs": []
    },
    {
      "cell_type": "markdown",
      "source": [
        "<font size = 5> Aplicadas punto 11 </font>"
      ],
      "metadata": {
        "id": "z46y1IBmti3H"
      }
    },
    {
      "cell_type": "code",
      "source": [
        "# Registro de pacientes: Escribe una función que reciba una lista de nombres de\n",
        "#pacientes y una lista de edades. La función debe devolver una lista de pacientes\n",
        "#mayores de 60 años, indicando que requieren atención prioritaria.\n",
        "\n",
        "def pacientes_prioritarios(nombres, edades):\n",
        "    pacientes_mayores = [nombres[i] for i in range(len(edades)) if edades[i] > 60]\n",
        "\n",
        "    return pacientes_mayores\n",
        "\n",
        "nombres_pacientes = [\"Ana\", \"Carlos\", \"Luis\", \"María\", \"Jorge\"]\n",
        "edades_pacientes = [45, 70, 61, 39, 80]\n",
        "\n",
        "prioritarios = pacientes_prioritarios(nombres_pacientes, edades_pacientes)\n",
        "\n",
        "print(\"Pacientes que requieren atención prioritaria:\", prioritarios)\n"
      ],
      "metadata": {
        "id": "-eib4aUqtki4"
      },
      "execution_count": null,
      "outputs": []
    },
    {
      "cell_type": "markdown",
      "source": [
        "<font size = 5> Aplicadas punto 12 </font>"
      ],
      "metadata": {
        "id": "7-4-21yDtk5L"
      }
    },
    {
      "cell_type": "code",
      "source": [
        "\n",
        "print(\"welcome, With this program you can calculate your monthly bills\")\n",
        "\n",
        "# ask to the user how many money spent in each category (rent, food, transport and others)\n",
        "\n",
        "rent = float(int(input(\"how many money spent in the rent?: \")))\n",
        "food = float(int(input(\"How many money spent in food?: \")))\n",
        "transport = float(int(input(\"How many mony do you spent in transport: \")))\n",
        "other = float(int(input(\"If you spent money in other thing put how many, if not put (0): \")))\n",
        "\n",
        "# Calculate the total of the bills\n",
        "\n",
        "totalBill = rent + food + transport + other\n",
        "print(\"the total money that you spent was: \", totalBill)\n",
        "\n",
        "# select which one was the most expensive\n",
        "\n",
        "if rent > food and rent > transport and rent > other:\n",
        "    print(\"the most expensive category was rent, you spent\",rent)\n",
        "\n",
        "elif food > rent and food > transport and food > other:\n",
        "    print(\"the most expensive category was food, you spent\", food)\n",
        "\n",
        "elif transport > rent and transport > food and transport > other:\n",
        "    print(\"the most expensive category was transport, you spent\", transport)\n",
        "\n",
        "else:\n",
        "    print(\"the most expensive category was other, you spent\", other)"
      ],
      "metadata": {
        "id": "7cp1C4Qjtm7v"
      },
      "execution_count": null,
      "outputs": []
    },
    {
      "cell_type": "markdown",
      "source": [
        "<font size = 5> Aplicadas punto 13 </font>"
      ],
      "metadata": {
        "id": "6tCYkcMgtnSH"
      }
    },
    {
      "cell_type": "code",
      "source": [
        "\n",
        "print(\"Welcome, with this program you can take a control of the people who went to your event\")\n",
        "\n",
        "# Empty list\n",
        "\n",
        "names = []\n",
        "peopleAssist = []\n",
        "peopleNoAssist = []\n",
        "\n",
        "# ask to the user how many people go to the event\n",
        "\n",
        "people = int(input(\"How many people go to your event: \"))\n",
        "\n",
        "while people > 0:\n",
        "    Username = input(\"type the name of the person: \")\n",
        "    names.append(Username)\n",
        "    assist = input(\"the person assist or not (si/no): \")\n",
        "\n",
        "    if assist.lower() == \"si\":\n",
        "        peopleAssist.append(Username)\n",
        "\n",
        "    else:\n",
        "        peopleNoAssist.append(Username)\n",
        "\n",
        "    people -= 1\n",
        "\n",
        "# Show to the user the final lists\n",
        "\n",
        "print(\"The names of the total people is: \", names)\n",
        "print(\"The names of the person who went to your event are: \",peopleAssist)\n",
        "print(\"the names of the people who didn't go to your event: \",peopleNoAssist)\n",
        "\n"
      ],
      "metadata": {
        "id": "LcXGw4zdtpvL"
      },
      "execution_count": null,
      "outputs": []
    },
    {
      "cell_type": "markdown",
      "source": [
        "<font size = 5> Aplicadas punto 14 </font>"
      ],
      "metadata": {
        "id": "1mYIM4EztqDO"
      }
    },
    {
      "cell_type": "code",
      "source": [
        "#Recomendación de ejercicio diario:Crea una función que reciba la cantidad de minutos\n",
        "#de ejercicio realizados en una semana (7 días) y devuelva un mensaje personalizado:\n",
        "#• \"Excelente, estás en forma\" si el promedio diario es mayor a 60 minutos.\n",
        "#• \"Buen trabajo, pero puedes mejorar\" si el promedio está entre 30 y 60 minutos.\n",
        "#• \"Debes hacer más ejercicio\" si el promedio es menor a 30 minutos.\n",
        "\n",
        "def recomendacion_ejercicio(minutos_semanales):\n",
        "  prom_minutos = minutos_semanales / 7\n",
        "\n",
        "  if prom_minutos > 60:\n",
        "    return \"Excelente, estás en forma\"\n",
        "  elif 30 > prom_minutos < 60:\n",
        "    return \"Buen trabajo, pero puedes mejorar\"\n",
        "  else:\n",
        "    return \"Debes hacer más ejercicio\"\n",
        "\n",
        "minutos = int(input(\"Cantidad de minutos de ejercicio realizado en una semana: \"))\n",
        "\n",
        "print(recomendacion_ejercicio(minutos))\n"
      ],
      "metadata": {
        "id": "HuCIYUUHtr2f"
      },
      "execution_count": null,
      "outputs": []
    }
  ]
}